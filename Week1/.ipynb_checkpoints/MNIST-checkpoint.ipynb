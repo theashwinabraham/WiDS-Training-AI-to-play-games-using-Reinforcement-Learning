{
 "cells": [
  {
   "attachments": {},
   "cell_type": "markdown",
   "metadata": {},
   "source": [
    "# Classification of Handwritten Digits from the MNIST Database\n",
    "\n",
    "We will illustrate multiple Machine Learning algorithms by using them for classifying handwritten digits."
   ]
  },
  {
   "attachments": {},
   "cell_type": "markdown",
   "metadata": {},
   "source": [
    "# Using Classwise Logistic Regression\n",
    "\n",
    "Here we perform [logistic regression](http://ufldl.stanford.edu/tutorial/supervised/LogisticRegression/) on each class of digit. For a given digit, then we choose the class with maximum (log) likelihood that the digit belongs to that class. We use stochastic gradient descent to get the values of the regression parameters. \n",
    "\n",
    "Note here that these likelihoods are not probabilities that the digit belongs to a particular class (they need not even sum to 1). This is a discriminative algorithm.\n",
    "\n",
    "The naive implementation of this algorithm is unlikely to give a very good result, as for each class the ratio of members of the class to non-members of the class is 1 : 9 (ie, the data is biased). Therefore, we correct for the bias in the data by taking a 1 : 1 ratio of class members and non-class members during gradient descent. "
   ]
  },
  {
   "cell_type": "code",
   "execution_count": 46,
   "metadata": {},
   "outputs": [
    {
     "name": "stderr",
     "output_type": "stream",
     "text": [
      "/tmp/ipykernel_268/915958806.py:22: RuntimeWarning: overflow encountered in exp\n",
      "  return 1/(1 + np.exp(-np.dot(params[digit], vector)))\n"
     ]
    },
    {
     "name": "stdout",
     "output_type": "stream",
     "text": [
      "Accuracy: 88.54%\n"
     ]
    }
   ],
   "source": [
    "import tensorflow as tf\n",
    "import numpy as np\n",
    "import matplotlib.pyplot as plt\n",
    "\n",
    "\n",
    "(x_train, y_train), (x_test, y_test) = tf.keras.datasets.mnist.load_data()\n",
    "x_train_r = np.zeros((x_train.shape[0], 1 + x_train.shape[1]*x_train.shape[2]))\n",
    "\n",
    "mean = np.mean(x_train.reshape(x_train.shape[0], x_train.shape[1]*x_train.shape[2]), axis=0)\n",
    "std_dev = np.std(x_train.reshape(x_train.shape[0], x_train.shape[1]*x_train.shape[2]), axis=0)\n",
    "\n",
    "for i in range(std_dev.shape[0]):\n",
    "    if np.isclose(std_dev[i], 0):\n",
    "        std_dev[i] = 1 # if STD DEV is close to 0, x - mean will already be close to 0, so we don't normalize\n",
    "\n",
    "for i in range(x_train_r.shape[0]):\n",
    "    x_train_r[i] = np.insert((np.reshape(x_train[i], (x_train.shape[1]*x_train.shape[2], )) - mean)/std_dev, 0, 1)\n",
    "\n",
    "params = np.zeros((10, x_train_r.shape[1]))\n",
    "\n",
    "def hypothesis(digit, vector):\n",
    "    return 1/(1 + np.exp(-np.dot(params[digit], vector)))\n",
    "\n",
    "# Correct for bias in data\n",
    "num_to_list = {}\n",
    "for i in range(10):\n",
    "    num_to_list[i] = []\n",
    "\n",
    "for i in range(x_train_r.shape[0]):\n",
    "    num_to_list[y_train[i]].append(i)\n",
    "\n",
    "for i in range(10):\n",
    "    num_to_list[i] = np.array(num_to_list[i])\n",
    "\n",
    "# Our hyperparameters\n",
    "NUM_ITER = 6000\n",
    "LEARN_RATE = 1e-2\n",
    "BATCH_SIZE = 360\n",
    "\n",
    "def grad_descent(digit, iterations = NUM_ITER, learning_rate = LEARN_RATE):\n",
    "    for _ in range(iterations):\n",
    "        sum = np.zeros(x_train_r.shape[1])\n",
    "        batch = np.concatenate(tuple([np.random.choice(num_to_list[p], int(BATCH_SIZE/2)) if p == digit else np.random.choice(num_to_list[p], int(BATCH_SIZE/18)) for p in range(10)]))\n",
    "\n",
    "        for i in batch:\n",
    "            if y_train[i] == digit:\n",
    "                sum += (1 - hypothesis(digit, x_train_r[i]))*x_train_r[i]\n",
    "            else:\n",
    "                sum -= hypothesis(digit, x_train_r[i])*x_train_r[i]\n",
    "        params[digit] += learning_rate*sum\n",
    "\n",
    "\n",
    "for i in range(10):\n",
    "    grad_descent(i)\n",
    "\n",
    "def prediction(digit):\n",
    "    r_dig = np.insert((np.reshape(digit, (x_train.shape[1]*x_train.shape[2], )) - mean)/std_dev, 0, 1)\n",
    "    return np.argmax([hypothesis(i, r_dig) for i in range(10)])\n",
    "\n",
    "num_occ = 0\n",
    "for i in range(x_test.shape[0]):\n",
    "    if prediction(x_test[i]) == y_test[i]:\n",
    "        num_occ += 1\n",
    "\n",
    "print(f'Accuracy: {num_occ*100/x_test.shape[0]}%')"
   ]
  },
  {
   "cell_type": "code",
   "execution_count": 7,
   "metadata": {},
   "outputs": [
    {
     "name": "stdout",
     "output_type": "stream",
     "text": [
      "Predicted: 4\n",
      "Actual: 4\n"
     ]
    },
    {
     "name": "stderr",
     "output_type": "stream",
     "text": [
      "/tmp/ipykernel_7009/3849353442.py:15: RuntimeWarning: overflow encountered in exp\n",
      "  return 1/(1 + np.exp(-np.dot(params[digit], vector)))\n"
     ]
    },
    {
     "data": {
      "image/png": "[encoded data removed]",
      "text/plain": [
       "<Figure size 640x480 with 1 Axes>"
      ]
     },
     "metadata": {},
     "output_type": "display_data"
    }
   ],
   "source": [
    "i = np.random.randint(0, x_test.shape[0])\n",
    "plt.imshow(x_test[i]);\n",
    "print(f'Predicted: {prediction(x_test[i])}')\n",
    "print(f'Actual: {y_test[i]}')"
   ]
  },
  {
   "attachments": {},
   "cell_type": "markdown",
   "metadata": {},
   "source": [
    "With ```6000``` iterations of gradient descent, a learning rate of ```0.01``` and a minibatch size of ```180```, we get an accuracy of ```88.54%```."
   ]
  },
  {
   "attachments": {},
   "cell_type": "markdown",
   "metadata": {},
   "source": [
    "## Using Softmax Regression\n",
    "\n",
    "[This](http://deeplearning.stanford.edu/tutorial/supervised/SoftmaxRegression/) is more appropriate for multiclass classification than plain logistic regression. Here the probabilities of a digit belonging to a class are drawn from a multivariate Bernoulli distribution, on which we perform maximum likelihood estimation via stochastic gradient descent. \n",
    "\n",
    "This is also a discriminative model."
   ]
  },
  {
   "cell_type": "code",
   "execution_count": 52,
   "metadata": {},
   "outputs": [
    {
     "name": "stderr",
     "output_type": "stream",
     "text": [
      "/tmp/ipykernel_268/615135398.py:32: RuntimeWarning: overflow encountered in exp\n",
      "  sum += np.exp(arr[j] - arr[i])\n",
      "/tmp/ipykernel_268/615135398.py:30: RuntimeWarning: overflow encountered in exp\n",
      "  sum = np.exp(-arr[i])\n"
     ]
    },
    {
     "name": "stdout",
     "output_type": "stream",
     "text": [
      "Accuracy: 90.13%\n"
     ]
    }
   ],
   "source": [
    "import tensorflow as tf\n",
    "import numpy as np\n",
    "import matplotlib.pyplot as plt\n",
    "\n",
    "(x_train, y_train), (x_test, y_test) = tf.keras.datasets.mnist.load_data()\n",
    "x_train_r = np.zeros((x_train.shape[0], 1 + x_train.shape[1]*x_train.shape[2]))\n",
    "\n",
    "mean = np.mean(x_train.reshape(x_train.shape[0], x_train.shape[1]*x_train.shape[2]), axis=0)\n",
    "std_dev = np.std(x_train.reshape(x_train.shape[0], x_train.shape[1]*x_train.shape[2]), axis=0)\n",
    "\n",
    "for i in range(std_dev.shape[0]):\n",
    "    if np.isclose(std_dev[i], 0):\n",
    "        std_dev[i] = 1 # if STD DEV is close to 0, x - mean will already be close to 0, so we don't normalize\n",
    "\n",
    "for i in range(x_train_r.shape[0]):\n",
    "    x_train_r[i] = np.insert((np.reshape(x_train[i], (x_train.shape[1]*x_train.shape[2], )) - mean)/std_dev, 0, 1)\n",
    "\n",
    "params = np.zeros((x_train_r.shape[1], 9))\n",
    "\n",
    "def sstat(digit):\n",
    "    arr = np.zeros(9)\n",
    "    if digit < 9:\n",
    "        arr[digit] = 1\n",
    "    return arr\n",
    "\n",
    "def hypothesis(vector):\n",
    "    arr = np.matmul(np.transpose(params), vector)\n",
    "    narr = np.zeros(9)\n",
    "    for i in range(9):\n",
    "        sum = np.exp(-arr[i])\n",
    "        for j in range(9):\n",
    "            sum += np.exp(arr[j] - arr[i])\n",
    "        narr[i] = 1/sum\n",
    "    return narr\n",
    "\n",
    "# Our hyperparameters for gradient descent\n",
    "NUM_ITER = 8000\n",
    "LEARN_RATE = 1e-2\n",
    "BATCH_SIZE = 500\n",
    "\n",
    "for _ in range(NUM_ITER):\n",
    "    sum = np.zeros((x_train_r.shape[1], 9))\n",
    "    batch = np.random.choice(range(x_train_r.shape[0]), BATCH_SIZE)\n",
    "    for i in batch:\n",
    "        sum += np.outer(x_train_r[i], sstat(y_train[i]) - hypothesis(x_train_r[i]))\n",
    "    params += LEARN_RATE*sum\n",
    "\n",
    "def prediction(img):\n",
    "    dig = np.insert((img.reshape(x_train.shape[1]*x_train.shape[2]) - mean)/std_dev, 0, 1)\n",
    "    hyp = hypothesis(dig)\n",
    "    hyp = np.append(hyp, 1 - np.sum(hyp))\n",
    "    return np.argmax(hyp)\n",
    "\n",
    "num_occ = 0\n",
    "for i in range(x_test.shape[0]):\n",
    "    if prediction(x_test[i]) == y_test[i]:\n",
    "        num_occ += 1\n",
    "\n",
    "print(f'Accuracy: {num_occ*100/x_test.shape[0]}%')"
   ]
  },
  {
   "cell_type": "code",
   "execution_count": 12,
   "metadata": {},
   "outputs": [
    {
     "name": "stdout",
     "output_type": "stream",
     "text": [
      "Predicted: 3\n",
      "Actual: 3\n"
     ]
    },
    {
     "name": "stderr",
     "output_type": "stream",
     "text": [
      "/tmp/ipykernel_268/3308815789.py:23: RuntimeWarning: overflow encountered in exp\n",
      "  sum = np.exp(-arr[i])\n",
      "/tmp/ipykernel_268/3308815789.py:25: RuntimeWarning: overflow encountered in exp\n",
      "  sum += np.exp(arr[j] - arr[i])\n"
     ]
    },
    {
     "data": {
      "image/png": "[encoded data removed]",
      "text/plain": [
       "<Figure size 640x480 with 1 Axes>"
      ]
     },
     "metadata": {},
     "output_type": "display_data"
    }
   ],
   "source": [
    "i = np.random.randint(0, x_test.shape[0])\n",
    "plt.imshow(x_test[i]);\n",
    "print(f'Predicted: {prediction(x_test[i])}')\n",
    "print(f'Actual: {y_test[i]}')"
   ]
  },
  {
   "attachments": {},
   "cell_type": "markdown",
   "metadata": {},
   "source": [
    "With ```8000``` iterations of gradient descent, a learning rate of ```0.01``` and a minibatch size of ```500```, we get an accuracy of ```90.13%```."
   ]
  },
  {
   "attachments": {},
   "cell_type": "markdown",
   "metadata": {},
   "source": [
    "## Gaussian Discriminant Analysis\n",
    "\n",
    "We assume each class of digit is distributed according to some Multivariate Gaussian whose mean and covariance we calculate (using the sample mean and sample covariance of each digit). Have a look at the slides on Multivariate Gaussian for an overview.\n",
    "\n",
    "To classify a digit then, we choose the class such that the probability that the digit belongs to the class is maximum. We calculate this probability using Baye's Theorem ( $P(y | x) = \\frac{P(x | y)P(y)}{P(x)}$ ). This is an example of a generative learning model.\n",
    "\n",
    "However, while calculating the sample covariance, it will come out to be singular or almost singular, as there are a large number of principal components with eigenvalues close to 0 (or 0). Therefore, we must reduce the dimensionality of the data by projecting it onto the space spanned by the first few principal components. Note that since we're already calculating the principal components here, there is no need to normalize the data."
   ]
  },
  {
   "cell_type": "code",
   "execution_count": 2,
   "metadata": {},
   "outputs": [
    {
     "name": "stdout",
     "output_type": "stream",
     "text": [
      "Accuracy: 95.59%\n"
     ]
    }
   ],
   "source": [
    "import tensorflow as tf\n",
    "import numpy as np\n",
    "import matplotlib.pyplot as plt\n",
    "\n",
    "NUM_PRINC = 150 # Number of Principal Components (our hyperparameter)\n",
    "\n",
    "(x_train, y_train), (x_test, y_test) = tf.keras.datasets.mnist.load_data()\n",
    "\n",
    "x_train_r = x_train.reshape(x_train.shape[0], x_train.shape[1]*x_train.shape[2]).astype('float64')\n",
    "\n",
    "num_to_list = {}\n",
    "\n",
    "for i in range(10):\n",
    "    num_to_list[i] = []\n",
    "\n",
    "for i in range(x_train_r.shape[0]):\n",
    "    num_to_list[y_train[i]].append(x_train_r[i])\n",
    "\n",
    "for i in range(10):\n",
    "    num_to_list[i] = np.array(num_to_list[i])\n",
    "\n",
    "means = np.array([np.mean(num_to_list[i], axis=0) for i in range(10)])\n",
    "covariances = np.array([np.cov(num_to_list[i].T, bias=True) for i in range(10)])\n",
    "\n",
    "princ_comps = np.zeros((10, NUM_PRINC, x_train_r.shape[1]))\n",
    "eigen_vals = np.zeros((10, NUM_PRINC))\n",
    "\n",
    "\n",
    "for i in range(10):\n",
    "    x, y = np.linalg.eigh(covariances[i])\n",
    "    eigen_vals[i] = x[x.size - NUM_PRINC:][::-1]\n",
    "    for j in range(NUM_PRINC):\n",
    "        princ_comps[i][j] = y[: , y.shape[1] - j - 1]\n",
    "\n",
    "def projection(num, vector):\n",
    "    return np.array([np.dot(x, vector) for x in princ_comps[num]])\n",
    "\n",
    "log_determinants = np.array([np.sum(np.log(eigen_vals[i])) for i in range(10)])\n",
    "proj_means = np.array([projection(i, means[i]) for i in range(10)])\n",
    "\n",
    "\n",
    "def neg_log_prob(num, vector):\n",
    "    wrt_mean = projection(num, vector) - proj_means[num]\n",
    "    return log_determinants[num] + np.sum([(wrt_mean[i] ** 2)/eigen_vals[num][i] for i in range(NUM_PRINC)]) + np.log(x_train_r.shape[0]/num_to_list[num].shape[0])\n",
    "\n",
    "def prediction(digit):\n",
    "    digit = digit.reshape(x_train_r.shape[1]).astype('float64')\n",
    "    return np.argmin(np.array([neg_log_prob(i, digit) for i in range(10)]))\n",
    "\n",
    "num_occ = 0\n",
    "for i in range(x_test.shape[0]):\n",
    "    if prediction(x_test[i]) == y_test[i]:\n",
    "        num_occ += 1\n",
    "\n",
    "print(f'Accuracy: {num_occ*100/x_test.shape[0]}%')"
   ]
  },
  {
   "cell_type": "code",
   "execution_count": 44,
   "metadata": {},
   "outputs": [
    {
     "name": "stdout",
     "output_type": "stream",
     "text": [
      "Predicted: 6\n",
      "Actual: 6\n"
     ]
    },
    {
     "data": {
      "image/png": "[encoded data removed]",
      "text/plain": [
       "<Figure size 640x480 with 1 Axes>"
      ]
     },
     "metadata": {},
     "output_type": "display_data"
    }
   ],
   "source": [
    "i = np.random.randint(0, x_test.shape[0])\n",
    "plt.imshow(x_test[i]);\n",
    "print(f'Predicted: {prediction(x_test[i])}')\n",
    "print(f'Actual: {y_test[i]}')"
   ]
  },
  {
   "attachments": {},
   "cell_type": "markdown",
   "metadata": {},
   "source": [
    "### Hyperparameter Tuning\n",
    "The hyperparameter here is the number of principal components considered. We choose the number that maximizes the accuracy on testing.\n",
    "\n",
    "| Number of Principal Components           | Accuracy               |\n",
    "| ---------------------------------------- | -----------------------|\n",
    "| ```1```                                  | ```4.55%```            |\n",
    "| ```80```                                 | ```94.24%```           |\n",
    "| ```150```                                | ```95.59%```           |\n",
    "| ```240```                                | ```94.78%```           |\n",
    "| ```320```                                | ```93.72%```           |\n",
    "| ```400```                                | ```91.45%```           |\n",
    "| ```480```                                | ```87.61%```           |\n",
    "| ```560```                                | ```65.83%```           |\n",
    "| ```640```                                | ```9.8%```             |\n",
    "| ```720```                                | ```9.8%```             |\n",
    "| ```784```                                | ```9.8%```             |\n"
   ]
  },
  {
   "attachments": {},
   "cell_type": "markdown",
   "metadata": {},
   "source": [
    "# Using Support Vector Machines\n",
    "\n",
    "Here we make ${10\\choose 2} = 45$ support vector machines that can distinguish every pair of classes. We will use Linear and RBF/Gaussian Kernels for the support vector machines and use the [SMO Algorithm](https://web.iitd.ac.in/~sumeet/tr-98-14.pdf), discovered by John C Platt for optimization. This is much faster than Gradient Descent would be, as it makes use of the fact that the dual problem of the SVM is a Quadratic Optimization Problem.\n",
    "\n",
    "The support vector machine is another discriminative algorithm, but this one can identify non-linear decision boundaries as well.\n",
    "\n",
    "For a given image, we will map it to the digit to which it is classified the most (on average, the image will be mapped to the correct digit $\\frac{9}{4}$ times more than the other digits)."
   ]
  },
  {
   "cell_type": "code",
   "execution_count": null,
   "metadata": {},
   "outputs": [],
   "source": [
    "import tensorflow as tf\n",
    "import numpy as np\n",
    "import matplotlib as plt\n",
    "\n",
    "(x_train, y_train), (x_test, y_test) = tf.keras.datasets.mnist.load_data()\n",
    "\n",
    "mean = np.mean(x_train.reshape(x_train.shape[0], x_train.shape[1]*x_train.shape[2]), axis=0)\n",
    "std_dev = np.std(x_train.reshape(x_train.shape[0], x_train.shape[1]*x_train.shape[2]), axis=0)\n",
    "\n",
    "for i in range(std_dev.shape[0]):\n",
    "    if np.isclose(std_dev[i], 0):\n",
    "        std_dev[i] = 1 # if STD DEV is close to 0, x - mean will already be close to 0, so we don't normalize\n",
    "\n",
    "num_to_list = {}\n",
    "for i in range(10):\n",
    "    num_to_list[i] = []\n",
    "\n",
    "for i in range(x_train.shape[0]):\n",
    "    num_to_list[y_train[i]].append((np.reshape(x_train[i], (x_train.shape[1]*x_train.shape[2], )) - mean)/std_dev)\n",
    "\n",
    "for i in range(10):\n",
    "    num_to_list[i] = np.array(num_to_list[i])\n",
    "\n",
    "# Our hyperparameters\n",
    "GAUSS_PARAM = 1e-2 # Only for the Gaussian Kernel\n",
    "SOFTEN_PARAM = 3000\n",
    "LEARN_RATE = 1e-2\n",
    "NUM_ITER = 50\n",
    "BATCH_SIZE = 5 # We adjust these many params at a time\n",
    "EPS = 1e-3\n",
    "\n",
    "def isclose(a, b, threshold_factor = 1):\n",
    "    return abs(a - b) < EPS*threshold_factor\n",
    "\n",
    "def kernel(x, y, Linear=False):\n",
    "    return np.dot(x, y) if Linear else np.exp(-GAUSS_PARAM*(np.linalg.norm(x - y)**2))\n",
    "\n",
    "svm_params = [[np.zeros(num_to_list[i].shape[0]), np.zeros(num_to_list[j].shape[0])] for i in range(10) for j in range(i + 1, 10)]\n",
    "bias = np.array([0 for i in range(10) for j in range(i + 1)])\n",
    "svm_outputs = [[np.zeros(num_to_list[i].shape[0]), np.zeros(num_to_list[j].shape[0])] for i in range(10) for j in range(i + 1, 10)]\n",
    "\n",
    "\n",
    "def get_index(i, j):\n",
    "    # assert i < j\n",
    "    return int(i*(17 - i)/2) + j - 1\n",
    "\n",
    "\n",
    "def two_opt(i, j, ind1, ind2, y1, y2):\n",
    "    # assert i < j, ind1 != ind2\n",
    "    numi = num_to_list[i].shape[0]\n",
    "    numj = num_to_list[j].shape[0]\n",
    "    C = SOFTEN_PARAM/(numi + numj)\n",
    "    alph1 = svm_params[get_index(i, j)][0 if y1 == 1 else 1][ind1]\n",
    "    alph2 = svm_params[get_index(i, j)][0 if y2 == 1 else 1][ind2]\n",
    "    L = max(0, alph2 - alph1) if y1 != y2 else max(0, alph1 + alph2 - C) # Lower limit on alph2\n",
    "    H = min(C, C + alph2 - alph1) if y1 != y2 else min(C, alph2 + alph1) # Upper limit on alph2\n",
    "    if isclose(L, H):\n",
    "        return\n",
    "    # We explicitly set alph1 and alph2 to optimal values without changing other parameters\n",
    "    x1 = num_to_list[i if y1 == 1 else j][ind1]\n",
    "    x2 = num_to_list[i if y2 == 1 else j][ind2]\n",
    "    kx1 = kernel(x1, x1)\n",
    "    kx2 = kernel(x2, x2)\n",
    "    kx1x2 = kernel(x1, x2)\n",
    "    eta = kx1 + kx2 - 2*kx1x2\n",
    "    u1 = svm_outputs[get_index(i, j)][0 if y1 == 1 else 1][ind1]\n",
    "    u2 = svm_outputs[get_index(i, j)][0 if y2 == 1 else 1][ind2]\n",
    "    poss_alph2 = alph2 + y2*(u1 - u2 + y2 - y1)/eta\n",
    "    old_alph2 = alph2\n",
    "    if poss_alph2 <= L:\n",
    "        alph2 = L\n",
    "    elif poss_alph2 >= H:\n",
    "        alph2 = H\n",
    "    else:\n",
    "        alph2 = poss_alph2\n",
    "    if isclose(alph2, old_alph2, alph2 + old_alph2):\n",
    "        return\n",
    "\n",
    "    old_alph1 = alph1\n",
    "    alph1 += y1*y2(alph2 - old_alph2)\n",
    "    b1 = -(u1 - y1 + y1*(alph1 - old_alph1)*kx1 + y2*(alph2 - old_alph2)*kx1x2) + bias[get_index(i, j)]\n",
    "    b2 = -(u2 - y2 + y1*(alph1 - old_alph1)*kx1x2 + y2*(alph2 - old_alph2)*kx2) + bias[get_index(i, j)]\n",
    "    if (isclose(0, alph1) or isclose(C, alph1)) == (isclose(0, alph2) or isclose(C, alph2)):\n",
    "        bias[get_index(i, j)] = (b1 + b2)/2\n",
    "    else:\n",
    "        if alph1 > 0 and alph1 < C:\n",
    "            bias[get_index(i, j)] = b1\n",
    "        else:\n",
    "            bias[get_index(i, j)] = b2\n",
    "\n",
    "    svm_params[get_index(i, j)][0 if y1 == 1 else 1][ind1] = alph1\n",
    "    svm_params[get_index(i, j)][0 if y2 == 1 else 1][ind2] = alph2\n",
    "\n",
    "    for k in range(numi):\n",
    "        svm_outputs[get_index(i, j)][0][k] = np.sum([svm_params[get_index(i, j)][0][l]*kernel(num_to_list[i][l], num_to_list[i][k]) for l in range(numi)]) - np.sum([svm_params[get_index(i, j)][1][l]*kernel(num_to_list[j][l], num_to_list[i][k]) for l in range(numj)]) + bias[get_index(i, j)]\n",
    "    \n",
    "    for k in range(numj):\n",
    "        svm_outputs[get_index(i, j)][1][k] = np.sum([svm_params[get_index(i, j)][0][l]*kernel(num_to_list[i][l], num_to_list[j][k]) for l in range(numi)]) - np.sum([svm_params[get_index(i, j)][1][l]*kernel(num_to_list[j][l], num_to_list[j][k]) for l in range(numj)]) + bias[get_index(i, j)]\n",
    "\n",
    "def KKT_violate(i, j, ind, y):\n",
    "    func_marg = y*svm_outputs[get_index(i, j)][0 if y == 1 else 1][ind]\n",
    "    alpha = svm_params[get_index(i, j)][0 if y == 1 else 1][ind]\n",
    "    C = SOFTEN_PARAM/(num_to_list[i].shape[0] + num_to_list[j].shape[0])\n",
    "    ans = (isclose(alpha, 0) != (func_marg > 1 + EPS)) or ((EPS < alpha and alpha < C - EPS) != isclose(func_marg, 1)) or (isclose(alpha, C) != (func_marg < 1 - EPS))\n",
    "    return ans\n",
    "\n",
    "for i in range(10):\n",
    "    for j in range(i + 1, 10):\n",
    "        while True:\n",
    "            numi = num_to_list[i].shape[0]\n",
    "            numj = num_to_list[j].shape[0]\n",
    "\n",
    "            ind1 = -1\n",
    "            y1 = 0\n",
    "            for k in range(numi):\n",
    "                if KKT_violate(i, j, k, 1):\n",
    "                    ind1 = k\n",
    "                    y1 = 1\n",
    "                    break\n",
    "            if ind1 == -1:\n",
    "                for k in range(numj):\n",
    "                    if KKT_violate(i, j, k, -1):\n",
    "                        ind1 = k\n",
    "                        y1 = -1\n",
    "                        break\n",
    "        \n",
    "            if ind1 == -1:\n",
    "                break\n",
    "\n",
    "            ind2 = -1\n",
    "            y2 = 0\n",
    "            for k in range(numi):\n",
    "                if KKT_violate(i, j, k, 1) and not (k == ind1 and y1 == 1):\n",
    "                    ind2 = k\n",
    "                    y2 = 1\n",
    "                    break\n",
    "            if ind2 == -1:\n",
    "                for k in range(numj):\n",
    "                    if KKT_violate(i, j, k, -1) and not (k == ind2 and y2 == -1):\n",
    "                        ind2 = k\n",
    "                        y2 = -1\n",
    "                        break\n",
    "            \n",
    "            if ind2 == -1:\n",
    "                y2 = np.random.choice([-1, 1])\n",
    "                if y2 == 1:\n",
    "                    ind2 = np.random.randint(0, numi)\n",
    "                else:\n",
    "                    ind2 = np.random.randint(0, numj)\n",
    "            \n",
    "            two_opt(i, j, ind1, ind2, y1, y2)\n",
    "        \n",
    "\n",
    "\n",
    "def hypothesis(i, j, vector):\n",
    "    return 1 if np.sum([svm_params[get_index(i, j)][0][k]*kernel(num_to_list[i][k], vector) for k in range(num_to_list[i].shape[0])]) - np.sum([svm_params[get_index(i, j)][1][k]*kernel(num_to_list[j][k], vector) for k in range(num_to_list[j].shape[0])]) + bias[get_index(i, j)] >= 0 else -1\n",
    "\n",
    "def prediction(img):\n",
    "    rimg = img.reshape(x_train.shape[1]*x_train.shape[2])\n",
    "    counts = np.zeros(10, dtype=int)\n",
    "    for i in range(10):\n",
    "        for j in range(i + 1, 10):\n",
    "            if hypothesis(i, j, rimg) == 1:\n",
    "                counts[i] += 1\n",
    "            else:\n",
    "                counts[j] += 1\n",
    "    return np.argmax(counts)\n",
    "\n",
    "num_occ = 0\n",
    "for i in range(x_test.shape[0]):\n",
    "    if prediction(x_test[i]) == y_test[i]:\n",
    "        num_occ += 1\n",
    "\n",
    "print(f'Accuracy: {num_occ*100/x_test.shape[0]}%')\n"
   ]
  },
  {
   "cell_type": "code",
   "execution_count": null,
   "metadata": {},
   "outputs": [],
   "source": [
    "i = np.random.randint(0, x_test.shape[0])\n",
    "plt.imshow(x_test[i]);\n",
    "print(f'Predicted: {prediction(x_test[i])}')\n",
    "print(f'Actual: {y_test[i]}')"
   ]
  }
 ],
 "metadata": {
  "kernelspec": {
   "display_name": "Python 3",
   "language": "python",
   "name": "python3"
  },
  "language_info": {
   "codemirror_mode": {
    "name": "ipython",
    "version": 3
   },
   "file_extension": ".py",
   "mimetype": "text/x-python",
   "name": "python",
   "nbconvert_exporter": "python",
   "pygments_lexer": "ipython3",
   "version": "3.8.10"
  },
  "orig_nbformat": 4,
  "vscode": {
   "interpreter": {
    "hash": "31f2aee4e71d21fbe5cf8b01ff0e069b9275f58929596ceb00d14d90e3e16cd6"
   }
  }
 },
 "nbformat": 4,
 "nbformat_minor": 2
}
