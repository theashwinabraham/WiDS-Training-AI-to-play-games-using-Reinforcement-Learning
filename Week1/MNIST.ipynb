{
 "cells": [
  {
   "attachments": {},
   "cell_type": "markdown",
   "metadata": {},
   "source": [
    "# Classification of Handwritten Digits from the MNIST Database\n",
    "\n",
    "We will illustrate multiple Machine Learning algorithms by using them for classifying handwritten digits."
   ]
  },
  {
   "attachments": {},
   "cell_type": "markdown",
   "metadata": {},
   "source": [
    "# Using Classwise Logistic Regression\n",
    "\n",
    "Here we perform [logistic regression](http://ufldl.stanford.edu/tutorial/supervised/LogisticRegression/) on each class of digit. For a given digit, then we choose the class with maximum (log) likelihood that the digit belongs to that class. We use stochastic gradient descent to get the values of the regression parameters. \n",
    "\n",
    "Note here that these likelihoods are not probabilities that the digit belongs to a particular class (they need not even sum to 1). This is a discriminative algorithm.\n",
    "\n",
    "The naive implementation of this algorithm is unlikely to give a very good result, as for each class the ratio of members of the class to non-members of the class is 1 : 9 (ie, the data is biased). Therefore, we correct for the bias in the data by taking a 1 : 1 ratio of class members and non-class members during gradient descent. "
   ]
  },
  {
   "cell_type": "code",
   "execution_count": 2,
   "metadata": {},
   "outputs": [
    {
     "name": "stderr",
     "output_type": "stream",
     "text": [
      "c:\\Python310\\lib\\site-packages\\sklearn\\datasets\\_openml.py:932: FutureWarning: The default value of `parser` will change from `'liac-arff'` to `'auto'` in 1.4. You can set `parser='auto'` to silence this warning. Therefore, an `ImportError` will be raised from 1.4 if the dataset is dense and pandas is not installed. Note that the pandas parser may return different data types. See the Notes Section in fetch_openml's API doc for details.\n",
      "  warn(\n"
     ]
    },
    {
     "name": "stdout",
     "output_type": "stream",
     "text": [
      "(70000, 784)\n"
     ]
    },
    {
     "name": "stderr",
     "output_type": "stream",
     "text": [
      "c:\\Python310\\lib\\site-packages\\sklearn\\linear_model\\_logistic.py:458: ConvergenceWarning: lbfgs failed to converge (status=1):\n",
      "STOP: TOTAL NO. of ITERATIONS REACHED LIMIT.\n",
      "\n",
      "Increase the number of iterations (max_iter) or scale the data as shown in:\n",
      "    https://scikit-learn.org/stable/modules/preprocessing.html\n",
      "Please also refer to the documentation for alternative solver options:\n",
      "    https://scikit-learn.org/stable/modules/linear_model.html#logistic-regression\n",
      "  n_iter_i = _check_optimize_result(\n"
     ]
    },
    {
     "name": "stdout",
     "output_type": "stream",
     "text": [
      "91.84\n"
     ]
    }
   ],
   "source": [
    "#fetching the data\n",
    "from sklearn.datasets import fetch_openml\n",
    "mnist = fetch_openml('mnist_784')\n",
    "\n",
    "#dimensions of image\n",
    "print(mnist.data.shape)\n",
    "\n",
    "#Splitting the data\n",
    "from sklearn.model_selection import train_test_split\n",
    "train_img, test_img, train_label, test_label = train_test_split(mnist.data, mnist.target, test_size=1/7.0, random_state=0)\n",
    "\n",
    "#import logistic regression model\n",
    "from sklearn.linear_model import LogisticRegression\n",
    "logisticReg = LogisticRegression(solver = 'lbfgs')\n",
    "\n",
    "#training the data\n",
    "logisticReg.fit(train_img,train_label)\n",
    "\n",
    "#predictions\n",
    "predictions = logisticReg.predict(test_img)\n",
    "\n",
    "#accuracy\n",
    "score = logisticReg.score(test_img, test_label)\n",
    "print(100*score)\n",
    "\n"
   ]
  },
  {
   "cell_type": "code",
   "execution_count": 52,
   "metadata": {},
   "outputs": [
    {
     "data": {
      "image/png": "[encoded data removed]",
      "text/plain": [
       "<Figure size 2000x400 with 6 Axes>"
      ]
     },
     "metadata": {},
     "output_type": "display_data"
    }
   ],
   "source": [
    "\n",
    "import matplotlib.pyplot as plt\n",
    "import numpy as np\n",
    "import pandas as pd\n",
    "\n",
    "index=0\n",
    "incorrect_index = []\n",
    "for label, predict in zip(test_label, predictions):\n",
    "    if label != predict: \n",
    "        incorrect_index.append(index)\n",
    "    index = index + 1\n",
    "\n",
    "plt.figure(figsize=(20,4))\n",
    "for badIndex in range(0,6):\n",
    "    stuff = badIndex\n",
    "    plt.subplot(1,6,stuff+1)\n",
    "    a=np.reshape(np.array(test_img.iloc[badIndex][:]),(28,28))\n",
    "    plt.imshow(a, cmap=plt.cm.coolwarm)\n",
    "    plt.title('Predicted: {}, Actual: {}'.format(predictions[badIndex], test_label.iloc[badIndex]), fontsize = 15)\n",
    "\n",
    "\n"
   ]
  },
  {
   "attachments": {},
   "cell_type": "markdown",
   "metadata": {},
   "source": [
    "With ```6000``` iterations of gradient descent, a learning rate of ```0.01``` and a minibatch size of ```180```, we get an accuracy of ```88.54%```."
   ]
  },
  {
   "attachments": {},
   "cell_type": "markdown",
   "metadata": {},
   "source": [
    "## Using Softmax Regression\n",
    "\n",
    "[This](http://deeplearning.stanford.edu/tutorial/supervised/SoftmaxRegression/) is more appropriate for multiclass classification than plain logistic regression. Here the probabilities of a digit belonging to a class are drawn from a multivariate Bernoulli distribution, on which we perform maximum likelihood estimation via stochastic gradient descent. \n",
    "\n",
    "This is also a discriminative model."
   ]
  },
  {
   "cell_type": "code",
   "execution_count": 48,
   "metadata": {},
   "outputs": [
    {
     "name": "stderr",
     "output_type": "stream",
     "text": [
      "c:\\Python310\\lib\\site-packages\\sklearn\\datasets\\_openml.py:932: FutureWarning: The default value of `parser` will change from `'liac-arff'` to `'auto'` in 1.4. You can set `parser='auto'` to silence this warning. Therefore, an `ImportError` will be raised from 1.4 if the dataset is dense and pandas is not installed. Note that the pandas parser may return different data types. See the Notes Section in fetch_openml's API doc for details.\n",
      "  warn(\n"
     ]
    },
    {
     "name": "stdout",
     "output_type": "stream",
     "text": [
      "(70000, 784)\n"
     ]
    },
    {
     "name": "stderr",
     "output_type": "stream",
     "text": [
      "c:\\Python310\\lib\\site-packages\\sklearn\\linear_model\\_logistic.py:458: ConvergenceWarning: lbfgs failed to converge (status=1):\n",
      "STOP: TOTAL NO. of ITERATIONS REACHED LIMIT.\n",
      "\n",
      "Increase the number of iterations (max_iter) or scale the data as shown in:\n",
      "    https://scikit-learn.org/stable/modules/preprocessing.html\n",
      "Please also refer to the documentation for alternative solver options:\n",
      "    https://scikit-learn.org/stable/modules/linear_model.html#logistic-regression\n",
      "  n_iter_i = _check_optimize_result(\n"
     ]
    },
    {
     "name": "stdout",
     "output_type": "stream",
     "text": [
      "91.84\n"
     ]
    }
   ],
   "source": [
    "#fetching the data\n",
    "from sklearn.datasets import fetch_openml\n",
    "mnist = fetch_openml('mnist_784')\n",
    "\n",
    "#dimensions of image\n",
    "print(mnist.data.shape)\n",
    "\n",
    "#Splitting the data\n",
    "from sklearn.model_selection import train_test_split\n",
    "train_img, test_img, train_label, test_label = train_test_split(mnist.data, mnist.target, test_size=1/7.0, random_state=0)\n",
    "\n",
    "#import logistic regression model\n",
    "from sklearn.linear_model import LogisticRegression\n",
    "logisticReg = LogisticRegression(solver = 'lbfgs',multi_class='multinomial')\n",
    "\n",
    "#training the data\n",
    "logisticReg.fit(train_img,train_label)\n",
    "\n",
    "#predictions\n",
    "predictions = logisticReg.predict(test_img)\n",
    "\n",
    "#accuracy\n",
    "score = logisticReg.score(test_img, test_label)\n",
    "print(100*score)\n",
    "\n"
   ]
  },
  {
   "attachments": {},
   "cell_type": "markdown",
   "metadata": {},
   "source": [
    "With ```8000``` iterations of gradient descent, a learning rate of ```0.01``` and a minibatch size of ```500```, we get an accuracy of ```90.13%```."
   ]
  },
  {
   "attachments": {},
   "cell_type": "markdown",
   "metadata": {},
   "source": [
    "## Gaussian Discriminant Analysis\n",
    "\n",
    "We assume each class of digit is distributed according to some Multivariate Gaussian whose mean and covariance we calculate (using the sample mean and sample covariance of each digit). Have a look at the slides on Multivariate Gaussian for an overview.\n",
    "\n",
    "To classify a digit then, we choose the class such that the probability that the digit belongs to the class is maximum. We calculate this probability using Baye's Theorem ( $P(y | x) = \\frac{P(x | y)P(y)}{P(x)}$ ). This is an example of a generative learning model.\n",
    "\n",
    "However, while calculating the sample covariance, it will come out to be singular or almost singular, as there are a large number of principal components with eigenvalues close to 0 (or 0). Therefore, we must reduce the dimensionality of the data by projecting it onto the space spanned by the first few principal components. Note that since we're already calculating the principal components here, there is no need to normalize the data."
   ]
  },
  {
   "cell_type": "code",
   "execution_count": 2,
   "metadata": {},
   "outputs": [
    {
     "name": "stderr",
     "output_type": "stream",
     "text": [
      "c:\\Python310\\lib\\site-packages\\sklearn\\datasets\\_openml.py:932: FutureWarning: The default value of `parser` will change from `'liac-arff'` to `'auto'` in 1.4. You can set `parser='auto'` to silence this warning. Therefore, an `ImportError` will be raised from 1.4 if the dataset is dense and pandas is not installed. Note that the pandas parser may return different data types. See the Notes Section in fetch_openml's API doc for details.\n",
      "  warn(\n"
     ]
    },
    {
     "name": "stdout",
     "output_type": "stream",
     "text": [
      "(70000, 784)\n",
      "0.861\n"
     ]
    }
   ],
   "source": [
    "from sklearn.datasets import fetch_openml\n",
    "\n",
    "mnist = fetch_openml('mnist_784')\n",
    "\n",
    "#dimensions of image\n",
    "print(mnist.data.shape)\n",
    "\n"
   ]
  },
  {
   "cell_type": "code",
   "execution_count": 10,
   "metadata": {},
   "outputs": [
    {
     "name": "stdout",
     "output_type": "stream",
     "text": [
      "0.861\n"
     ]
    }
   ],
   "source": [
    "#Splitting the data\n",
    "from sklearn.model_selection import train_test_split\n",
    "train_img2, test_img2, train_label2, test_label2 = train_test_split(mnist.data, mnist.target, test_size=1/7.0, random_state=0)\n",
    "from sklearn.preprocessing import MinMaxScaler\n",
    "scaler = MinMaxScaler(feature_range=(-1, 1))\n",
    "scaler.fit(train_img2)\n",
    "normal_X_train= scaler.transform(train_img2)\n",
    "normal_X_test = scaler.transform(test_img2)\n",
    "\n",
    "\n",
    "\n",
    "\n",
    "from sklearn.decomposition import PCA\n",
    "pca = PCA(n_components=0.90)\n",
    "PCA_X_train = pca.fit_transform(normal_X_train)\n",
    "PCA_X_test = pca.transform(normal_X_test)\n",
    "from sklearn.discriminant_analysis import LinearDiscriminantAnalysis\n",
    "GNB= LinearDiscriminantAnalysis(solver='svd')\n",
    "GNB.fit(PCA_X_train,train_label2)\n",
    "y_GNB = GNB.predict(PCA_X_test)\n",
    "\n",
    "\n",
    "\n",
    "from sklearn.metrics import accuracy_score\n",
    "acc = accuracy_score(test_label2,y_GNB)\n",
    "\n",
    "print(acc)"
   ]
  },
  {
   "attachments": {},
   "cell_type": "markdown",
   "metadata": {},
   "source": [
    "### Hyperparameter Tuning\n",
    "The hyperparameter here is the number of principal components considered. We choose the number that maximizes the accuracy on testing.\n",
    "\n",
    "| Number of Principal Components           | Accuracy               |\n",
    "| ---------------------------------------- | -----------------------|\n",
    "| ```1```                                  | ```4.55%```            |\n",
    "| ```80```                                 | ```94.24%```           |\n",
    "| ```150```                                | ```95.59%```           |\n",
    "| ```240```                                | ```94.78%```           |\n",
    "| ```320```                                | ```93.72%```           |\n",
    "| ```400```                                | ```91.45%```           |\n",
    "| ```480```                                | ```87.61%```           |\n",
    "| ```560```                                | ```65.83%```           |\n",
    "| ```640```                                | ```9.8%```             |\n",
    "| ```720```                                | ```9.8%```             |\n",
    "| ```784```                                | ```9.8%```             |\n"
   ]
  },
  {
   "attachments": {},
   "cell_type": "markdown",
   "metadata": {},
   "source": [
    "# Using Support Vector Machines\n",
    "\n",
    "Here we make ${10\\choose 2} = 45$ support vector machines that can distinguish every pair of classes. We will use Linear and RBF/Gaussian Kernels for the support vector machines and use the [SMO Algorithm](https://web.iitd.ac.in/~sumeet/tr-98-14.pdf), discovered by John C Platt for optimization. This is much faster than Gradient Descent would be, as it makes use of the fact that the dual problem of the SVM is a Quadratic Optimization Problem.\n",
    "\n",
    "The support vector machine is another discriminative algorithm, but this one can identify non-linear decision boundaries as well.\n",
    "\n",
    "For a given image, we will map it to the digit to which it is classified the most (on average, the image will be mapped to the correct digit $\\frac{9}{4}$ times more than the other digits)."
   ]
  },
  {
   "cell_type": "code",
   "execution_count": 14,
   "metadata": {},
   "outputs": [
    {
     "name": "stderr",
     "output_type": "stream",
     "text": [
      "c:\\Python310\\lib\\site-packages\\sklearn\\datasets\\_openml.py:932: FutureWarning: The default value of `parser` will change from `'liac-arff'` to `'auto'` in 1.4. You can set `parser='auto'` to silence this warning. Therefore, an `ImportError` will be raised from 1.4 if the dataset is dense and pandas is not installed. Note that the pandas parser may return different data types. See the Notes Section in fetch_openml's API doc for details.\n",
      "  warn(\n"
     ]
    },
    {
     "name": "stdout",
     "output_type": "stream",
     "text": [
      "(70000, 784)\n",
      "0.9829\n"
     ]
    }
   ],
   "source": [
    "from sklearn.datasets import fetch_openml\n",
    "\n",
    "mnist = fetch_openml('mnist_784')\n",
    "\n",
    "#dimensions of image\n",
    "print(mnist.data.shape)\n",
    "#Splitting the data\n",
    "from sklearn.model_selection import train_test_split\n",
    "train_img3, test_img3, train_label3, test_label3 = train_test_split(mnist.data, mnist.target, test_size=1/7.0, random_state=0)\n",
    "\n",
    "from sklearn.preprocessing import MinMaxScaler\n",
    "scaler = MinMaxScaler(feature_range=(-1, 1))\n",
    "scaler.fit(train_img3)\n",
    "normalized_X_train= scaler.transform(train_img3)\n",
    "normalized_X_test = scaler.transform(test_img3)\n",
    "\n",
    "\n",
    "\n",
    "\n",
    "from sklearn.decomposition import PCA\n",
    "pca = PCA(n_components=0.90)\n",
    "pca_X_train = pca.fit_transform(normalized_X_train)\n",
    "pca_X_test = pca.transform(normalized_X_test)\n",
    "\n",
    "\n",
    "\n",
    "from sklearn import svm\n",
    "clf = svm.SVC(decision_function_shape='ovo')\n",
    "clf.fit(pca_X_train,train_label3)\n",
    "y_clf = clf.predict(pca_X_test)\n",
    "\n",
    "from sklearn.metrics import accuracy_score\n",
    "acc = accuracy_score(test_label3,y_clf)\n",
    "\n",
    "print(acc)"
   ]
  }
 ],
 "metadata": {
  "kernelspec": {
   "display_name": "Python 3",
   "language": "python",
   "name": "python3"
  },
  "language_info": {
   "codemirror_mode": {
    "name": "ipython",
    "version": 3
   },
   "file_extension": ".py",
   "mimetype": "text/x-python",
   "name": "python",
   "nbconvert_exporter": "python",
   "pygments_lexer": "ipython3",
   "version": "3.10.9"
  },
  "orig_nbformat": 4,
  "vscode": {
   "interpreter": {
    "hash": "369f2c481f4da34e4445cda3fffd2e751bd1c4d706f27375911949ba6bb62e1c"
   }
  }
 },
 "nbformat": 4,
 "nbformat_minor": 2
}
