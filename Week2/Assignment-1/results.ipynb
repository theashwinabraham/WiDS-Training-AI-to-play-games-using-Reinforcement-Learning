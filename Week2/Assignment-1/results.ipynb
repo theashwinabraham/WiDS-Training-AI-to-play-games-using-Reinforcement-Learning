{
 "cells": [
  {
   "attachments": {},
   "cell_type": "markdown",
   "metadata": {},
   "source": [
    "# Analysis\n",
    "\n",
    "Train the various algorithms and show your results. \n",
    "\n",
    "You must plot the reward obtained by your agent per step and the total regret accumulated so far.\n",
    "\n",
    "This one is an open ended assignment, so feel free to play around. Extra credit for more beautiful plots (you can check out Seaborn). "
   ]
  },
  {
   "cell_type": "code",
   "execution_count": 1,
   "metadata": {},
   "outputs": [
    {
     "ename": "TypeError",
     "evalue": "UCBAAgent.__init__() missing 1 required positional argument: 'c'",
     "output_type": "error",
     "traceback": [
      "\u001b[1;31m---------------------------------------------------------------------------\u001b[0m",
      "\u001b[1;31mTypeError\u001b[0m                                 Traceback (most recent call last)",
      "Cell \u001b[1;32mIn[1], line 13\u001b[0m\n\u001b[0;32m     10\u001b[0m \u001b[39mfrom\u001b[39;00m \u001b[39mbandits\u001b[39;00m \u001b[39mimport\u001b[39;00m Bandit\n\u001b[0;32m     11\u001b[0m \u001b[39mfrom\u001b[39;00m \u001b[39magents\u001b[39;00m \u001b[39mimport\u001b[39;00m \u001b[39m*\u001b[39m\n\u001b[1;32m---> 13\u001b[0m u \u001b[39m=\u001b[39m UCBAAgent(\u001b[39m0.4\u001b[39;49m)\n\u001b[0;32m     15\u001b[0m \u001b[39mfor\u001b[39;00m i \u001b[39min\u001b[39;00m \u001b[39mrange\u001b[39m(\u001b[39m10\u001b[39m):\n\u001b[0;32m     16\u001b[0m     e \u001b[39m=\u001b[39m \u001b[39m0\u001b[39m\n",
      "\u001b[1;31mTypeError\u001b[0m: UCBAAgent.__init__() missing 1 required positional argument: 'c'"
     ]
    }
   ],
   "source": [
    "import numpy as numpy\n",
    "import matplotlib.pyplot as plt \n",
    "# import seaborn as sns\n",
    "# import sys\n",
    "# import os\n",
    "# module_path = os.path.abspath(os.path.join('.'))\n",
    "# if module_path not in sys.path:\n",
    "#     sys.path.append(module_path)\n",
    "\n",
    "from bandits import Bandit\n",
    "from agents import *\n",
    "\n",
    "u = UCBAAgent(0.4)\n",
    "\n",
    "for i in range(10):\n",
    "    e = 0\n",
    "    for j in range(100):\n",
    "        if j==0:\n",
    "            e=u.act()\n",
    "        else:\n",
    "            e = (e*j+u.act())/j\n",
    "    print(e )\n",
    "\n",
    "\n"
   ]
  }
 ],
 "metadata": {
  "kernelspec": {
   "display_name": "Python 3",
   "language": "python",
   "name": "python3"
  },
  "language_info": {
   "codemirror_mode": {
    "name": "ipython",
    "version": 3
   },
   "file_extension": ".py",
   "mimetype": "text/x-python",
   "name": "python",
   "nbconvert_exporter": "python",
   "pygments_lexer": "ipython3",
   "version": "3.10.9"
  },
  "orig_nbformat": 4,
  "vscode": {
   "interpreter": {
    "hash": "369f2c481f4da34e4445cda3fffd2e751bd1c4d706f27375911949ba6bb62e1c"
   }
  }
 },
 "nbformat": 4,
 "nbformat_minor": 2
}
